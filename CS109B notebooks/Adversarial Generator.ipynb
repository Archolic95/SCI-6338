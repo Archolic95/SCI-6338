{
 "cells": [
  {
   "cell_type": "markdown",
   "metadata": {
    "slideshow": {
     "slide_type": "slide"
    }
   },
   "source": [
    "\n",
    "# <img style=\"float: left; padding-right: 10px; width: 45px\" src=\"https://raw.githubusercontent.com/Harvard-IACS/2018-CS109A/master/content/styles/iacs.png\"> CS109B Data Science 2: Advanced Topics in Data Science \n",
    "\n",
    "## Lecture 21:  Adversarial Examples \n",
    "\n",
    "**Harvard University**<br/>\n",
    "**Spring 2019**<br/>\n",
    "**Instructors:** Pavlos Protopapas and Mark Glickman<br/>\n",
    "\n",
    "<hr style=\"height:2pt\">\n",
    "\n",
    "\n",
    "Code and ideas taken/borrowed/adapted from \n",
    "Deep Learning From Basics to Practice, by Andrew Glassner, https://dlbasics.com, http://glassner.com, Python utilities for saving and loading files, mostly images and Keras model weights\n",
    "\n",
    "#### Authors: Pavlos Protopapas, Amil Merchant, Alex Lin, Thomas Chang, ZiZi Zhang"
   ]
  },
  {
   "cell_type": "code",
   "execution_count": 1,
   "metadata": {},
   "outputs": [
    {
     "data": {
      "text/html": [
       "<style>\n",
       "blockquote { background: #AEDE94; }\n",
       "h1 { \n",
       "    padding-top: 25px;\n",
       "    padding-bottom: 25px;\n",
       "    text-align: left; \n",
       "    padding-left: 10px;\n",
       "    background-color: #DDDDDD; \n",
       "    color: black;\n",
       "}\n",
       "h2 { \n",
       "    padding-top: 10px;\n",
       "    padding-bottom: 10px;\n",
       "    text-align: left; \n",
       "    padding-left: 5px;\n",
       "    background-color: #EEEEEE; \n",
       "    color: black;\n",
       "}\n",
       "\n",
       "div.exercise {\n",
       "\tbackground-color: #ffcccc;\n",
       "\tborder-color: #E9967A; \t\n",
       "\tborder-left: 5px solid #800080; \n",
       "\tpadding: 0.5em;\n",
       "}\n",
       "\n",
       "span.sub-q {\n",
       "\tfont-weight: bold;\n",
       "}\n",
       "div.theme {\n",
       "\tbackground-color: #DDDDDD;\n",
       "\tborder-color: #E9967A; \t\n",
       "\tborder-left: 5px solid #800080; \n",
       "\tpadding: 0.5em;\n",
       "\tfont-size: 18pt;\n",
       "}\n",
       "div.gc { \n",
       "\tbackground-color: #AEDE94;\n",
       "\tborder-color: #E9967A; \t \n",
       "\tborder-left: 5px solid #800080; \n",
       "\tpadding: 0.5em;\n",
       "\tfont-size: 12pt;\n",
       "}\n",
       "p.q1 { \n",
       "    padding-top: 5px;\n",
       "    padding-bottom: 5px;\n",
       "    text-align: left; \n",
       "    padding-left: 5px;\n",
       "    background-color: #EEEEEE; \n",
       "    color: black;\n",
       "}\n",
       "header {\n",
       "   padding-top: 35px;\n",
       "    padding-bottom: 35px;\n",
       "    text-align: left; \n",
       "    padding-left: 10px;\n",
       "    background-color: #DDDDDD; \n",
       "    color: black;\n",
       "}\n",
       "</style>\n",
       "\n"
      ],
      "text/plain": [
       "<IPython.core.display.HTML object>"
      ]
     },
     "execution_count": 1,
     "metadata": {},
     "output_type": "execute_result"
    }
   ],
   "source": [
    "#RUN THIS CELL \n",
    "import requests\n",
    "from IPython.core.display import HTML\n",
    "styles = requests.get(\"https://raw.githubusercontent.com/Harvard-IACS/2018-CS109A/master/content/styles/cs109.css\").text\n",
    "HTML(styles)"
   ]
  },
  {
   "cell_type": "markdown",
   "metadata": {
    "colab_type": "text",
    "id": "H-cU5EcSpbbS",
    "slideshow": {
     "slide_type": "slide"
    }
   },
   "source": [
    "# Adversarial Examples"
   ]
  },
  {
   "cell_type": "markdown",
   "metadata": {
    "colab_type": "text",
    "id": "tEDXFSR3pbbU",
    "slideshow": {
     "slide_type": "slide"
    }
   },
   "source": [
    "Adversarial examples for neural networks are inputs that are specifically meant to fool neural networks but be descernible to the human eye."
   ]
  },
  {
   "cell_type": "markdown",
   "metadata": {
    "colab_type": "text",
    "id": "4Du87nYVpbbU",
    "slideshow": {
     "slide_type": "slide"
    }
   },
   "source": [
    "### Contents:\n",
    "\n",
    "1. Datasets - MNIST\n",
    "3. Cleverhans Integration\n",
    "4. FGSM (non-targeted attack)\n",
    "5. JSMA (targeted attack)\n",
    "6. Exercise: Repeat process with CIFAR"
   ]
  },
  {
   "cell_type": "markdown",
   "metadata": {
    "colab_type": "text",
    "id": "c7exDLmkpbbV",
    "slideshow": {
     "slide_type": "slide"
    }
   },
   "source": [
    "### Datasets - MNIST / CIFAR"
   ]
  },
  {
   "cell_type": "markdown",
   "metadata": {
    "colab_type": "text",
    "id": "Wzh6Z7ZepbbV",
    "slideshow": {
     "slide_type": "fragment"
    }
   },
   "source": [
    "In this examples, we will explore some of these examples and a few attack methods on common datasets such as MNIST and CIFAR10. We first load the data in through Keras."
   ]
  },
  {
   "cell_type": "code",
   "execution_count": 2,
   "metadata": {
    "colab": {
     "autoexec": {
      "startup": false,
      "wait_interval": 0
     }
    },
    "colab_type": "code",
    "id": "IvRz8EHhpbbW",
    "slideshow": {
     "slide_type": "slide"
    }
   },
   "outputs": [
    {
     "name": "stderr",
     "output_type": "stream",
     "text": [
      "Using TensorFlow backend.\n"
     ]
    }
   ],
   "source": [
    "import numpy as np\n",
    "from keras.datasets import mnist\n",
    "from keras.datasets import cifar10\n",
    "import matplotlib.pyplot as plt\n",
    "import tensorflow as tf\n",
    "import keras\n",
    "\n",
    "session = tf.Session()\n",
    "keras.backend.set_session(session)"
   ]
  },
  {
   "cell_type": "code",
   "execution_count": 3,
   "metadata": {
    "colab": {
     "autoexec": {
      "startup": false,
      "wait_interval": 0
     }
    },
    "colab_type": "code",
    "id": "DPmLTvg7pbbb",
    "slideshow": {
     "slide_type": "slide"
    }
   },
   "outputs": [
    {
     "name": "stdout",
     "output_type": "stream",
     "text": [
      "Downloading data from https://s3.amazonaws.com/img-datasets/mnist.npz\n",
      "11493376/11490434 [==============================] - 3s 0us/step\n"
     ]
    }
   ],
   "source": [
    "(mn_x_train, mn_y_train), (mn_x_test, mn_y_test) = mnist.load_data()"
   ]
  },
  {
   "cell_type": "markdown",
   "metadata": {
    "colab_type": "text",
    "id": "SP9iiRI7pbbe",
    "slideshow": {
     "slide_type": "skip"
    }
   },
   "source": [
    "As a refresher, MNIST is a dataset for black and white handwritten digits. This dataset is particularly simple, as  we will see, neural networks can achieve very high levels of test accuracy.\n",
    "\n",
    "Each image is 28 x 28, for a size of 784 for each input."
   ]
  },
  {
   "cell_type": "code",
   "execution_count": 4,
   "metadata": {
    "colab": {
     "autoexec": {
      "startup": false,
      "wait_interval": 0
     },
     "base_uri": "https://localhost:8080/",
     "height": 52,
     "output_extras": [
      {
       "item_id": 1
      }
     ]
    },
    "colab_type": "code",
    "executionInfo": {
     "elapsed": 265,
     "status": "ok",
     "timestamp": 1520798910792,
     "user": {
      "displayName": "Amil Merchant",
      "photoUrl": "//lh4.googleusercontent.com/-i4HKB6dvgGw/AAAAAAAAAAI/AAAAAAAAAM0/ZzUTZt5BJUU/s50-c-k-no/photo.jpg",
      "userId": "100705221914954377129"
     },
     "user_tz": 240
    },
    "id": "epeIBAEqpbbf",
    "outputId": "d69c7c81-5978-47f1-8708-f6b239481cb4",
    "slideshow": {
     "slide_type": "skip"
    }
   },
   "outputs": [
    {
     "name": "stdout",
     "output_type": "stream",
     "text": [
      "Training Examples: 60000\n",
      "Test Examples: 10000\n"
     ]
    }
   ],
   "source": [
    "print (\"Training Examples: %d\" % len(mn_x_train))\n",
    "print (\"Test Examples: %d\" % len(mn_x_test))"
   ]
  },
  {
   "cell_type": "code",
   "execution_count": 5,
   "metadata": {
    "colab": {
     "autoexec": {
      "startup": false,
      "wait_interval": 0
     },
     "base_uri": "https://localhost:8080/",
     "height": 327,
     "output_extras": [
      {
       "item_id": 1
      }
     ]
    },
    "colab_type": "code",
    "executionInfo": {
     "elapsed": 1047,
     "status": "ok",
     "timestamp": 1520798912370,
     "user": {
      "displayName": "Amil Merchant",
      "photoUrl": "//lh4.googleusercontent.com/-i4HKB6dvgGw/AAAAAAAAAAI/AAAAAAAAAM0/ZzUTZt5BJUU/s50-c-k-no/photo.jpg",
      "userId": "100705221914954377129"
     },
     "user_tz": 240
    },
    "id": "gv2B0CL9pbbj",
    "outputId": "ee60a0b0-7aef-4cd4-9562-9862d5e18934",
    "slideshow": {
     "slide_type": "slide"
    }
   },
   "outputs": [
    {
     "data": {
      "image/png": "[encoded data removed]",
      "text/plain": [
       "<Figure size 720x360 with 10 Axes>"
      ]
     },
     "metadata": {
      "needs_background": "light"
     },
     "output_type": "display_data"
    }
   ],
   "source": [
    "n_classes = 10\n",
    "inds=np.array([mn_y_train==i for i in range(n_classes)])\n",
    "f,ax=plt.subplots(2,5,figsize=(10,5))\n",
    "ax=ax.flatten()\n",
    "for i in range(n_classes):\n",
    "    ax[i].imshow(mn_x_train[np.argmax(inds[i])].reshape(28,28))\n",
    "    ax[i].set_title(str(i))\n",
    "plt.show()"
   ]
  },
  {
   "cell_type": "markdown",
   "metadata": {
    "colab_type": "text",
    "id": "fEhiv16epbbq",
    "slideshow": {
     "slide_type": "slide"
    }
   },
   "source": [
    "### Neural Network Training"
   ]
  },
  {
   "cell_type": "markdown",
   "metadata": {
    "colab_type": "text",
    "id": "0c0_spRupbbq",
    "slideshow": {
     "slide_type": "skip"
    }
   },
   "source": [
    "Keras is a high level library which can be used to train neural network models. It simplies coding neural networks for the datasets, and as installed, uses tensorflow for the backend. We use Keras for its simplicity and because these models can easily be linked into the cleverhans library to generate adversarial examples. "
   ]
  },
  {
   "cell_type": "markdown",
   "metadata": {
    "colab_type": "text",
    "id": "8Y7UTiRrpbbs",
    "slideshow": {
     "slide_type": "subslide"
    }
   },
   "source": [
    "We shall start with MNIST as the models and the results are easy to see. The second half of the notebook will repeat the results with CIFAR10. For MNIST, we will use a very simple neural network which takes in the 28 x 28 input, uses a single hidden layer of size 512, and goes uses dense connections to lead to the 10 output classes. This should be familiar and may seem too simple, we will will build up to more complex examples when we get to CIFAR10."
   ]
  },
  {
   "cell_type": "code",
   "execution_count": 6,
   "metadata": {
    "colab": {
     "autoexec": {
      "startup": false,
      "wait_interval": 0
     }
    },
    "colab_type": "code",
    "id": "xVm7Yt9Xpbbt",
    "slideshow": {
     "slide_type": "slide"
    }
   },
   "outputs": [
    {
     "name": "stdout",
     "output_type": "stream",
     "text": [
      "WARNING:tensorflow:From C:\\Users\\runji\\Anaconda3\\lib\\site-packages\\keras\\backend\\tensorflow_backend.py:74: The name tf.get_default_graph is deprecated. Please use tf.compat.v1.get_default_graph instead.\n",
      "\n",
      "WARNING:tensorflow:From C:\\Users\\runji\\Anaconda3\\lib\\site-packages\\keras\\backend\\tensorflow_backend.py:517: The name tf.placeholder is deprecated. Please use tf.compat.v1.placeholder instead.\n",
      "\n",
      "WARNING:tensorflow:From C:\\Users\\runji\\Anaconda3\\lib\\site-packages\\keras\\backend\\tensorflow_backend.py:4138: The name tf.random_uniform is deprecated. Please use tf.random.uniform instead.\n",
      "\n",
      "WARNING:tensorflow:From C:\\Users\\runji\\Anaconda3\\lib\\site-packages\\keras\\optimizers.py:790: The name tf.train.Optimizer is deprecated. Please use tf.compat.v1.train.Optimizer instead.\n",
      "\n",
      "WARNING:tensorflow:From C:\\Users\\runji\\Anaconda3\\lib\\site-packages\\keras\\backend\\tensorflow_backend.py:3295: The name tf.log is deprecated. Please use tf.math.log instead.\n",
      "\n"
     ]
    }
   ],
   "source": [
    "from keras import models\n",
    "from keras import layers\n",
    "\n",
    "network = models.Sequential()\n",
    "network.add(layers.Dense(512, activation='relu', input_shape=(28 * 28,)))\n",
    "network.add(layers.Dense(10, activation='softmax'))\n",
    "\n",
    "network.compile(optimizer='rmsprop',\n",
    "                loss='categorical_crossentropy',\n",
    "                metrics=['accuracy'])"
   ]
  },
  {
   "cell_type": "markdown",
   "metadata": {
    "colab_type": "text",
    "id": "WGvZnUHFpbbx",
    "slideshow": {
     "slide_type": "slide"
    }
   },
   "source": [
    "The data must be pre-processed before analysis. We flatten the image and normalize the images so pixel values are between 0 and 1 instead of 0 and 255. The labels must also be inputted as one hot vectors, so we use built in keras functions."
   ]
  },
  {
   "cell_type": "code",
   "execution_count": 7,
   "metadata": {
    "colab": {
     "autoexec": {
      "startup": false,
      "wait_interval": 0
     }
    },
    "colab_type": "code",
    "id": "oGRZy-Qbpbby",
    "slideshow": {
     "slide_type": "slide"
    }
   },
   "outputs": [],
   "source": [
    "train_images_1d = mn_x_train.reshape((60000, 28 * 28))\n",
    "train_images_1d = train_images_1d.astype('float32') / 255\n",
    "\n",
    "test_images_1d = mn_x_test.reshape((10000, 28 * 28))\n",
    "test_images_1d = test_images_1d.astype('float32') / 255"
   ]
  },
  {
   "cell_type": "code",
   "execution_count": 8,
   "metadata": {
    "colab": {
     "autoexec": {
      "startup": false,
      "wait_interval": 0
     }
    },
    "colab_type": "code",
    "id": "QgV49RvMpbb0",
    "slideshow": {
     "slide_type": "slide"
    }
   },
   "outputs": [],
   "source": [
    "from keras.utils import to_categorical #this just converts the labels to one-hot class\n",
    "train_labels = to_categorical(mn_y_train)\n",
    "test_labels = to_categorical(mn_y_test)"
   ]
  },
  {
   "cell_type": "markdown",
   "metadata": {
    "colab_type": "text",
    "id": "ZcbtOkjRpbb2",
    "slideshow": {
     "slide_type": "skip"
    }
   },
   "source": [
    "Training the network does not take long and can easily be done quickly on a CPU. Validation accuracy quickly rises to  about 99%."
   ]
  },
  {
   "cell_type": "code",
   "execution_count": 9,
   "metadata": {
    "colab": {
     "autoexec": {
      "startup": false,
      "wait_interval": 0
     },
     "base_uri": "https://localhost:8080/",
     "height": 250,
     "output_extras": [
      {
       "item_id": 11
      },
      {
       "item_id": 12
      },
      {
       "item_id": 50
      }
     ]
    },
    "colab_type": "code",
    "executionInfo": {
     "elapsed": 12776,
     "status": "ok",
     "timestamp": 1520798932229,
     "user": {
      "displayName": "Amil Merchant",
      "photoUrl": "//lh4.googleusercontent.com/-i4HKB6dvgGw/AAAAAAAAAAI/AAAAAAAAAM0/ZzUTZt5BJUU/s50-c-k-no/photo.jpg",
      "userId": "100705221914954377129"
     },
     "user_tz": 240
    },
    "id": "YBTOm-ZHpbb3",
    "outputId": "99bc7bd4-0075-4d5d-cced-6beb600098e3",
    "slideshow": {
     "slide_type": "skip"
    }
   },
   "outputs": [
    {
     "name": "stdout",
     "output_type": "stream",
     "text": [
      "WARNING:tensorflow:From C:\\Users\\runji\\Anaconda3\\lib\\site-packages\\tensorflow_core\\python\\ops\\math_grad.py:1424: where (from tensorflow.python.ops.array_ops) is deprecated and will be removed in a future version.\n",
      "Instructions for updating:\n",
      "Use tf.where in 2.0, which has the same broadcast rule as np.where\n",
      "WARNING:tensorflow:From C:\\Users\\runji\\Anaconda3\\lib\\site-packages\\keras\\backend\\tensorflow_backend.py:986: The name tf.assign_add is deprecated. Please use tf.compat.v1.assign_add instead.\n",
      "\n",
      "WARNING:tensorflow:From C:\\Users\\runji\\Anaconda3\\lib\\site-packages\\keras\\backend\\tensorflow_backend.py:973: The name tf.assign is deprecated. Please use tf.compat.v1.assign instead.\n",
      "\n",
      "Epoch 1/5\n",
      "WARNING:tensorflow:From C:\\Users\\runji\\Anaconda3\\lib\\site-packages\\keras\\backend\\tensorflow_backend.py:174: The name tf.get_default_session is deprecated. Please use tf.compat.v1.get_default_session instead.\n",
      "\n",
      "WARNING:tensorflow:From C:\\Users\\runji\\Anaconda3\\lib\\site-packages\\keras\\backend\\tensorflow_backend.py:190: The name tf.global_variables is deprecated. Please use tf.compat.v1.global_variables instead.\n",
      "\n",
      "WARNING:tensorflow:From C:\\Users\\runji\\Anaconda3\\lib\\site-packages\\keras\\backend\\tensorflow_backend.py:199: The name tf.is_variable_initialized is deprecated. Please use tf.compat.v1.is_variable_initialized instead.\n",
      "\n",
      "WARNING:tensorflow:From C:\\Users\\runji\\Anaconda3\\lib\\site-packages\\keras\\backend\\tensorflow_backend.py:206: The name tf.variables_initializer is deprecated. Please use tf.compat.v1.variables_initializer instead.\n",
      "\n",
      "60000/60000 [==============================] - 10s 172us/step - loss: 0.2605 - acc: 0.9238\n",
      "Epoch 2/5\n",
      " 1408/60000 [..............................] - ETA: 7s - loss: 0.1183 - acc: 0.9560"
     ]
    },
    {
     "name": "stderr",
     "output_type": "stream",
     "text": [
      "C:\\Users\\runji\\Anaconda3\\lib\\site-packages\\keras\\callbacks.py:434: RuntimeWarning: Can save best model only with val_loss available, skipping.\n",
      "  'skipping.' % (self.monitor), RuntimeWarning)\n"
     ]
    },
    {
     "name": "stdout",
     "output_type": "stream",
     "text": [
      "60000/60000 [==============================] - 9s 148us/step - loss: 0.1048 - acc: 0.9689\n",
      "Epoch 3/5\n",
      "60000/60000 [==============================] - 9s 152us/step - loss: 0.0687 - acc: 0.9789\n",
      "Epoch 4/5\n",
      "60000/60000 [==============================] - 8s 139us/step - loss: 0.0502 - acc: 0.9847\n",
      "Epoch 5/5\n",
      "60000/60000 [==============================] - 9s 147us/step - loss: 0.0382 - acc: 0.9882\n"
     ]
    }
   ],
   "source": [
    "from keras.callbacks import ModelCheckpoint\n",
    "\n",
    "h=network.fit(train_images_1d, \n",
    "              train_labels, \n",
    "              epochs=5, \n",
    "              batch_size=128, \n",
    "              shuffle=True, \n",
    "              callbacks=[ModelCheckpoint('tutorial_MNIST.h5',save_best_only=True)])"
   ]
  },
  {
   "cell_type": "code",
   "execution_count": 10,
   "metadata": {
    "colab": {
     "autoexec": {
      "startup": false,
      "wait_interval": 0
     },
     "base_uri": "https://localhost:8080/",
     "height": 375,
     "output_extras": [
      {
       "item_id": 1
      }
     ]
    },
    "colab_type": "code",
    "executionInfo": {
     "elapsed": 629,
     "status": "ok",
     "timestamp": 1520798932899,
     "user": {
      "displayName": "Amil Merchant",
      "photoUrl": "//lh4.googleusercontent.com/-i4HKB6dvgGw/AAAAAAAAAAI/AAAAAAAAAM0/ZzUTZt5BJUU/s50-c-k-no/photo.jpg",
      "userId": "100705221914954377129"
     },
     "user_tz": 240
    },
    "id": "GgOiT6Jlpbb7",
    "outputId": "0f56f330-14dd-41ee-ce36-a0a17f85fe71",
    "slideshow": {
     "slide_type": "subslide"
    }
   },
   "outputs": [
    {
     "data": {
      "image/png": "[encoded data removed]",
      "text/plain": [
       "<Figure size 432x288 with 1 Axes>"
      ]
     },
     "metadata": {
      "needs_background": "light"
     },
     "output_type": "display_data"
    }
   ],
   "source": [
    "# summarize history for accuracy\n",
    "plt.plot(h.history['acc'])\n",
    "plt.title('model accuracy')\n",
    "plt.ylabel('accuracy')\n",
    "plt.xlabel('epoch')\n",
    "plt.legend(['train'], loc='upper left')\n",
    "plt.show()"
   ]
  },
  {
   "cell_type": "code",
   "execution_count": 11,
   "metadata": {
    "colab": {
     "autoexec": {
      "startup": false,
      "wait_interval": 0
     },
     "base_uri": "https://localhost:8080/",
     "height": 52,
     "output_extras": [
      {
       "item_id": 2
      }
     ]
    },
    "colab_type": "code",
    "executionInfo": {
     "elapsed": 527,
     "status": "ok",
     "timestamp": 1520798933600,
     "user": {
      "displayName": "Amil Merchant",
      "photoUrl": "//lh4.googleusercontent.com/-i4HKB6dvgGw/AAAAAAAAAAI/AAAAAAAAAM0/ZzUTZt5BJUU/s50-c-k-no/photo.jpg",
      "userId": "100705221914954377129"
     },
     "user_tz": 240
    },
    "id": "6sgnfloqpbcE",
    "outputId": "8ed7fc52-845a-4577-b865-c47ecccd3ed8",
    "slideshow": {
     "slide_type": "slide"
    }
   },
   "outputs": [
    {
     "name": "stdout",
     "output_type": "stream",
     "text": [
      "10000/10000 [==============================] - 1s 95us/step\n",
      "Test Accuracy: 0.98070\n"
     ]
    }
   ],
   "source": [
    "score, acc = network.evaluate(test_images_1d, \n",
    "                            test_labels,\n",
    "                            batch_size=128)\n",
    "\n",
    "print (\"Test Accuracy: %.5f\" % acc)"
   ]
  },
  {
   "cell_type": "code",
   "execution_count": 12,
   "metadata": {
    "colab": {
     "autoexec": {
      "startup": false,
      "wait_interval": 0
     }
    },
    "colab_type": "code",
    "id": "f4tPxGP0qclA",
    "slideshow": {
     "slide_type": "skip"
    }
   },
   "outputs": [],
   "source": [
    "network.save('tutorial_MNIST.h5')"
   ]
  },
  {
   "cell_type": "markdown",
   "metadata": {
    "colab_type": "text",
    "id": "kHcfunvTpbcH",
    "slideshow": {
     "slide_type": "slide"
    }
   },
   "source": [
    "### Cleverhans Integration"
   ]
  },
  {
   "cell_type": "markdown",
   "metadata": {
    "colab_type": "text",
    "id": "M88y9g1dpbcI",
    "slideshow": {
     "slide_type": "slide"
    }
   },
   "source": [
    "Cleverhans is a library written by researchers on adversarial examples, many of whom are with Google Brain. The library has wrappers that allow us to take the Keras model that we just made (or an already trained model) and create adversarial examples.\n",
    "\n",
    "If the model has already been created and we do not want to recreate it, just run the code below to reload the model."
   ]
  },
  {
   "cell_type": "code",
   "execution_count": 13,
   "metadata": {
    "colab": {
     "autoexec": {
      "startup": false,
      "wait_interval": 0
     }
    },
    "colab_type": "code",
    "id": "0aNiwh3KpbcI",
    "slideshow": {
     "slide_type": "skip"
    }
   },
   "outputs": [],
   "source": [
    "from keras.models import load_model\n",
    "network = load_model('tutorial_MNIST.h5')"
   ]
  },
  {
   "cell_type": "code",
   "execution_count": 14,
   "metadata": {
    "slideshow": {
     "slide_type": "skip"
    }
   },
   "outputs": [
    {
     "name": "stdout",
     "output_type": "stream",
     "text": [
      "Obtaining cleverhans from git+https://github.com/tensorflow/cleverhans.git#egg=cleverhans\n",
      "  Cloning https://github.com/tensorflow/cleverhans.git to c:\\users\\runji\\onedrive - harvard university\\github\\sci-6338\\cs109b notebooks\\src\\cleverhans\n",
      "Note: you may need to restart the kernel to use updated packages.\n"
     ]
    },
    {
     "name": "stderr",
     "output_type": "stream",
     "text": [
      "  Running command git clone -q https://github.com/tensorflow/cleverhans.git 'C:\\Users\\runji\\OneDrive - Harvard University\\GitHub\\SCI-6338\\CS109B notebooks\\src\\cleverhans'\n",
      "  ERROR: Error [WinError 2] The system cannot find the file specified while executing command git clone -q https://github.com/tensorflow/cleverhans.git 'C:\\Users\\runji\\OneDrive - Harvard University\\GitHub\\SCI-6338\\CS109B notebooks\\src\\cleverhans'\n",
      "ERROR: Cannot find command 'git' - do you have 'git' installed and in your PATH?\n"
     ]
    }
   ],
   "source": [
    "%pip install -e git+https://github.com/tensorflow/cleverhans.git#egg=cleverhans"
   ]
  },
  {
   "cell_type": "code",
   "execution_count": 16,
   "metadata": {
    "colab": {
     "autoexec": {
      "startup": false,
      "wait_interval": 0
     }
    },
    "colab_type": "code",
    "id": "c-9gLy1PpbcM",
    "slideshow": {
     "slide_type": "slide"
    }
   },
   "outputs": [
    {
     "name": "stdout",
     "output_type": "stream",
     "text": [
      "WARNING:tensorflow:From C:\\Users\\runji\\Anaconda3\\lib\\site-packages\\cleverhans\\utils_tf.py:341: The name tf.GraphKeys is deprecated. Please use tf.compat.v1.GraphKeys instead.\n",
      "\n"
     ]
    }
   ],
   "source": [
    "from cleverhans.utils_keras import KerasModelWrapper\n",
    "wrap = KerasModelWrapper(network)"
   ]
  },
  {
   "cell_type": "markdown",
   "metadata": {
    "colab_type": "text",
    "id": "IvQHu3PepbcO",
    "slideshow": {
     "slide_type": "slide"
    }
   },
   "source": [
    "### FGSM\n",
    "\n",
    "The **F**ast **G**radient **S**ign **M**ethod is a non-target attack. Using the parameters in the neural network we trained, the FGSM method calculates the $\\nabla$ of the cost function for the particular input. By adding this gradient to the image times some parameter $\\epsilon$, we know that the cost function will increase. If the gradient is large enough, then the predictor is likely to change."
   ]
  },
  {
   "cell_type": "code",
   "execution_count": 17,
   "metadata": {
    "colab": {
     "autoexec": {
      "startup": false,
      "wait_interval": 0
     }
    },
    "colab_type": "code",
    "id": "bxLb2L93pbcP",
    "slideshow": {
     "slide_type": "skip"
    }
   },
   "outputs": [],
   "source": [
    "x = tf.placeholder(tf.float32, shape=(None, 784))\n",
    "y = tf.placeholder(tf.float32, shape=(None, 10))"
   ]
  },
  {
   "cell_type": "markdown",
   "metadata": {
    "colab_type": "text",
    "id": "0xD3MQzPpbcR",
    "slideshow": {
     "slide_type": "slide"
    }
   },
   "source": [
    "As mentioned above, the $\\epsilon \\nabla$ is added to the image to create the adversarial example. $\\epsilon$ is given by fgsm_rate in the code below. We chose this value since it leads low adversarial accuracy but the images are still easily discernible by eye. Too high of a value would make the images look like random noise, but too low values would leave the adversarial accuracy very high."
   ]
  },
  {
   "cell_type": "code",
   "execution_count": 18,
   "metadata": {
    "colab": {
     "autoexec": {
      "startup": false,
      "wait_interval": 0
     },
     "base_uri": "https://localhost:8080/",
     "height": 285,
     "output_extras": [
      {
       "item_id": 1
      }
     ]
    },
    "colab_type": "code",
    "executionInfo": {
     "elapsed": 578,
     "status": "ok",
     "timestamp": 1520798942270,
     "user": {
      "displayName": "Amil Merchant",
      "photoUrl": "//lh4.googleusercontent.com/-i4HKB6dvgGw/AAAAAAAAAAI/AAAAAAAAAM0/ZzUTZt5BJUU/s50-c-k-no/photo.jpg",
      "userId": "100705221914954377129"
     },
     "user_tz": 240
    },
    "id": "-4T2ew_FpbcS",
    "outputId": "27f51076-18cf-44eb-c34f-6c29ad399de7",
    "slideshow": {
     "slide_type": "slide"
    }
   },
   "outputs": [
    {
     "name": "stdout",
     "output_type": "stream",
     "text": [
      "WARNING:tensorflow:From C:\\Users\\runji\\Anaconda3\\lib\\site-packages\\cleverhans\\attacks\\__init__.py:283: to_float (from tensorflow.python.ops.math_ops) is deprecated and will be removed in a future version.\n",
      "Instructions for updating:\n",
      "Use `tf.cast` instead.\n",
      "WARNING:tensorflow:From C:\\Users\\runji\\Anaconda3\\lib\\site-packages\\cleverhans\\utils_tf.py:624: The name tf.assert_greater_equal is deprecated. Please use tf.compat.v1.assert_greater_equal instead.\n",
      "\n",
      "WARNING:tensorflow:From C:\\Users\\runji\\Anaconda3\\lib\\site-packages\\cleverhans\\utils_tf.py:615: The name tf.assert_less_equal is deprecated. Please use tf.compat.v1.assert_less_equal instead.\n",
      "\n",
      "WARNING:tensorflow:From C:\\Users\\runji\\Anaconda3\\lib\\site-packages\\cleverhans\\compat.py:124: calling softmax_cross_entropy_with_logits_v2_helper (from tensorflow.python.ops.nn_ops) with dim is deprecated and will be removed in a future version.\n",
      "Instructions for updating:\n",
      "dim is deprecated, use axis instead\n"
     ]
    }
   ],
   "source": [
    "from cleverhans.attacks import FastGradientMethod\n",
    "fgsm = FastGradientMethod(wrap, sess=session)\n",
    "\n",
    "fgsm_rate = 0.08\n",
    "fgsm_params = {'eps': fgsm_rate,'clip_min': 0.,'clip_max': 1.}\n",
    "adv_x = fgsm.generate(x, **fgsm_params)\n",
    "adv_x = tf.stop_gradient(adv_x)\n",
    "adv_prob = network(adv_x)"
   ]
  },
  {
   "cell_type": "code",
   "execution_count": 19,
   "metadata": {
    "colab": {
     "autoexec": {
      "startup": false,
      "wait_interval": 0
     }
    },
    "colab_type": "code",
    "id": "bE-DQkK2pbcX",
    "scrolled": false,
    "slideshow": {
     "slide_type": "slide"
    }
   },
   "outputs": [],
   "source": [
    "fetches = [adv_prob]\n",
    "fetches.append(adv_x)\n",
    "outputs = session.run(fetches=fetches, feed_dict={x:test_images_1d}) \n",
    "adv_prob = outputs[0]\n",
    "adv_examples = outputs[1]"
   ]
  },
  {
   "cell_type": "code",
   "execution_count": 20,
   "metadata": {
    "colab": {
     "autoexec": {
      "startup": false,
      "wait_interval": 0
     },
     "base_uri": "https://localhost:8080/",
     "height": 34,
     "output_extras": [
      {
       "item_id": 1
      }
     ]
    },
    "colab_type": "code",
    "executionInfo": {
     "elapsed": 276,
     "status": "ok",
     "timestamp": 1520798943228,
     "user": {
      "displayName": "Amil Merchant",
      "photoUrl": "//lh4.googleusercontent.com/-i4HKB6dvgGw/AAAAAAAAAAI/AAAAAAAAAM0/ZzUTZt5BJUU/s50-c-k-no/photo.jpg",
      "userId": "100705221914954377129"
     },
     "user_tz": 240
    },
    "id": "EmFchSSzpbcZ",
    "outputId": "8602e376-be5e-487d-8203-82965ebba3ac",
    "slideshow": {
     "slide_type": "slide"
    }
   },
   "outputs": [
    {
     "name": "stdout",
     "output_type": "stream",
     "text": [
      "Adversarial accuracy: 0.29770\n"
     ]
    }
   ],
   "source": [
    "adv_predicted = adv_prob.argmax(1)\n",
    "adv_accuracy = np.mean(adv_predicted == mn_y_test)\n",
    "\n",
    "print(\"Adversarial accuracy: %.5f\" % adv_accuracy)"
   ]
  },
  {
   "cell_type": "code",
   "execution_count": 21,
   "metadata": {
    "colab": {
     "autoexec": {
      "startup": false,
      "wait_interval": 0
     },
     "base_uri": "https://localhost:8080/",
     "height": 327,
     "output_extras": [
      {
       "item_id": 1
      }
     ]
    },
    "colab_type": "code",
    "executionInfo": {
     "elapsed": 1521,
     "status": "ok",
     "timestamp": 1520798944976,
     "user": {
      "displayName": "Amil Merchant",
      "photoUrl": "//lh4.googleusercontent.com/-i4HKB6dvgGw/AAAAAAAAAAI/AAAAAAAAAM0/ZzUTZt5BJUU/s50-c-k-no/photo.jpg",
      "userId": "100705221914954377129"
     },
     "user_tz": 240
    },
    "id": "vO4MkDVqpbcc",
    "outputId": "10f0f272-28dd-41fc-f5c8-b88d91d8d5e3",
    "slideshow": {
     "slide_type": "slide"
    }
   },
   "outputs": [
    {
     "data": {
      "image/png": "[encoded data removed]",
      "text/plain": [
       "<Figure size 720x360 with 10 Axes>"
      ]
     },
     "metadata": {
      "needs_background": "light"
     },
     "output_type": "display_data"
    }
   ],
   "source": [
    "n_classes = 10\n",
    "f,ax=plt.subplots(2,5,figsize=(10,5))\n",
    "ax=ax.flatten()\n",
    "for i in range(n_classes):\n",
    "    ax[i].imshow(adv_examples[i].reshape(28,28))\n",
    "    ax[i].set_title(\"Adv: %d, Label: %d\" % (adv_predicted[i], mn_y_test[i]))\n",
    "plt.show()"
   ]
  },
  {
   "cell_type": "markdown",
   "metadata": {
    "colab_type": "text",
    "id": "Im6WFhOopbcg",
    "slideshow": {
     "slide_type": "slide"
    }
   },
   "source": [
    "From the examples above, we can see that many of the examples are misclassified from the true labels. Since the changes are non-targetted, the adversarial labels do not seem to show significant trends but are clearly not the numbers in the picture.  "
   ]
  },
  {
   "cell_type": "markdown",
   "metadata": {
    "colab_type": "text",
    "id": "s2rb6eO1pbch",
    "slideshow": {
     "slide_type": "slide"
    }
   },
   "source": [
    "### JSMA\n",
    "\n",
    "The JSMA method is slightly more complicated than FGSM and full explanations can be found in the following paper: https://arxiv.org/abs/1511.07528. One of the main differences is that this method is that the method generates targeted examples. For example, given a 4, we could perturb the image to register as any digit we desire between 0 and 9."
   ]
  },
  {
   "cell_type": "code",
   "execution_count": 22,
   "metadata": {
    "colab": {
     "autoexec": {
      "startup": false,
      "wait_interval": 0
     }
    },
    "colab_type": "code",
    "id": "Il_l3fa2pbci",
    "slideshow": {
     "slide_type": "slide"
    }
   },
   "outputs": [],
   "source": [
    "x = tf.placeholder(tf.float32, shape=(None, 784))\n",
    "y = tf.placeholder(tf.float32, shape=(None, 10))\n",
    "\n",
    "results = np.zeros((10, 10000))\n",
    "perturbations = np.zeros((10, 10000))\n",
    "grid_shape = (10, 10, 28, 28, 1)\n",
    "grid_data = np.zeros(grid_shape)\n",
    "\n",
    "\n",
    "from cleverhans.attacks import SaliencyMapMethod\n",
    "jsma = SaliencyMapMethod(wrap, sess=session)\n",
    "\n",
    "jsma_params = {'theta': 1., \n",
    "               'gamma': 0.1,\n",
    "               'clip_min': 0., \n",
    "               'clip_max': 1.,\n",
    "               'y_target': None}"
   ]
  },
  {
   "cell_type": "code",
   "execution_count": 24,
   "metadata": {
    "colab": {
     "autoexec": {
      "startup": false,
      "wait_interval": 0
     },
     "base_uri": "https://localhost:8080/",
     "height": 728,
     "output_extras": [
      {
       "item_id": 10
      }
     ]
    },
    "colab_type": "code",
    "executionInfo": {
     "elapsed": 1099429,
     "status": "ok",
     "timestamp": 1520800047827,
     "user": {
      "displayName": "Amil Merchant",
      "photoUrl": "//lh4.googleusercontent.com/-i4HKB6dvgGw/AAAAAAAAAAI/AAAAAAAAAM0/ZzUTZt5BJUU/s50-c-k-no/photo.jpg",
      "userId": "100705221914954377129"
     },
     "user_tz": 240
    },
    "id": "VE5Ei2fTpbcm",
    "outputId": "c7e7c748-985c-4cff-d876-d50b9a4e6e38",
    "slideshow": {
     "slide_type": "slide"
    }
   },
   "outputs": [
    {
     "name": "stdout",
     "output_type": "stream",
     "text": [
      "0\n",
      "(1, 784)\n",
      "[[0. 0. 0. 0. 0. 0. 0. 0. 0. 1.]]\n",
      "(1, 784)\n",
      "10\n",
      "(1, 784)\n",
      "[[0. 0. 0. 0. 0. 0. 0. 0. 0. 1.]]\n",
      "(1, 784)\n",
      "20\n",
      "(1, 784)\n",
      "[[0. 0. 0. 0. 0. 0. 0. 0. 1. 0.]]\n",
      "(1, 784)\n",
      "30\n",
      "(1, 784)\n",
      "[[0. 0. 0. 0. 0. 0. 0. 0. 0. 1.]]\n",
      "(1, 784)\n",
      "40\n",
      "(1, 784)\n",
      "[[0. 0. 0. 0. 0. 0. 0. 0. 0. 1.]]\n",
      "(1, 784)\n",
      "50\n",
      "(1, 784)\n",
      "[[0. 0. 0. 0. 0. 0. 0. 0. 0. 1.]]\n",
      "(1, 784)\n",
      "60\n",
      "(1, 784)\n",
      "[[0. 0. 0. 0. 0. 0. 0. 0. 0. 1.]]\n",
      "(1, 784)\n",
      "70\n",
      "(1, 784)\n",
      "[[0. 0. 0. 0. 0. 0. 0. 0. 0. 1.]]\n",
      "(1, 784)\n",
      "80\n",
      "(1, 784)\n",
      "[[0. 0. 0. 0. 0. 0. 0. 0. 0. 1.]]\n",
      "(1, 784)\n",
      "90\n",
      "(1, 784)\n",
      "[[0. 0. 0. 0. 0. 0. 0. 0. 0. 1.]]\n",
      "(1, 784)\n"
     ]
    }
   ],
   "source": [
    "from cleverhans.utils import other_classes, grid_visual\n",
    "\n",
    "for index in range(int(len(mn_x_test) / 100)):\n",
    "    sample = test_images_1d[index: index + 1]\n",
    "    current = mn_y_test[index]\n",
    "    target_classes = other_classes(10, current)\n",
    "    grid_data[current, current, :, :, :] = np.reshape(\n",
    "            sample, (28, 28, 1))\n",
    "    \n",
    "    for target in target_classes:\n",
    "        one_hot_target = np.zeros((1, 10))\n",
    "        one_hot_target[0, target] = 1\n",
    "        jsma_params['y_target'] = one_hot_target\n",
    "        adv_x = jsma.generate_np(sample, **jsma_params)\n",
    "        \n",
    "        grid_data[target, current, :, :, :] = np.reshape(\n",
    "                adv_x, (28, 28, 1))\n",
    "        \n",
    "    if index % 10 == 0:\n",
    "        print(index)\n",
    "        print(sample.shape)\n",
    "        print(one_hot_target)\n",
    "        print(adv_x.shape)"
   ]
  },
  {
   "cell_type": "code",
   "execution_count": 26,
   "metadata": {
    "colab": {
     "autoexec": {
      "startup": false,
      "wait_interval": 0
     },
     "base_uri": "https://localhost:8080/",
     "height": 368,
     "output_extras": [
      {
       "item_id": 1
      },
      {
       "item_id": 2
      }
     ]
    },
    "colab_type": "code",
    "executionInfo": {
     "elapsed": 6081,
     "status": "ok",
     "timestamp": 1520800053982,
     "user": {
      "displayName": "Amil Merchant",
      "photoUrl": "//lh4.googleusercontent.com/-i4HKB6dvgGw/AAAAAAAAAAI/AAAAAAAAAM0/ZzUTZt5BJUU/s50-c-k-no/photo.jpg",
      "userId": "100705221914954377129"
     },
     "user_tz": 240
    },
    "id": "UU6hZIi6pbco",
    "outputId": "485d275c-76ea-4ebe-893b-2b53af3c3f1c",
    "slideshow": {
     "slide_type": "slide"
    }
   },
   "outputs": [
    {
     "data": {
      "text/plain": [
       "<Figure size 5760x5760 with 0 Axes>"
      ]
     },
     "metadata": {},
     "output_type": "display_data"
    },
    {
     "data": {
      "image/png": "[encoded data removed]",
      "text/plain": [
       "<Figure size 432x288 with 100 Axes>"
      ]
     },
     "metadata": {
      "needs_background": "light"
     },
     "output_type": "display_data"
    }
   ],
   "source": [
    "plt.figure(figsize = (80, 80))\n",
    "_ = grid_visual(grid_data)"
   ]
  },
  {
   "cell_type": "markdown",
   "metadata": {
    "colab_type": "text",
    "id": "eJ-Tuc-9pbcr",
    "slideshow": {
     "slide_type": "slide"
    }
   },
   "source": [
    "Each row in the above plot shows an example for a particular starting class / digit. Using JSMA, we were able to generate examples that adversarially were designed to be  predicted as $0, 1, \\dots$ where each column represents the adversarial target class."
   ]
  },
  {
   "cell_type": "markdown",
   "metadata": {
    "colab_type": "text",
    "id": "A3N2uYpJpbcs",
    "slideshow": {
     "slide_type": "slide"
    }
   },
   "source": [
    "## CIFAR10"
   ]
  },
  {
   "cell_type": "markdown",
   "metadata": {
    "colab_type": "text",
    "id": "PSG02MfOpbcs",
    "slideshow": {
     "slide_type": "subslide"
    }
   },
   "source": [
    "Below, you can repeat the attack mehtods described above for a neural network on CIFAR10. This library is decently larger and requires a more complex CNN to train properly."
   ]
  },
  {
   "cell_type": "code",
   "execution_count": 27,
   "metadata": {
    "colab": {
     "autoexec": {
      "startup": false,
      "wait_interval": 0
     }
    },
    "colab_type": "code",
    "id": "0nHZ1f7Hpbct",
    "slideshow": {
     "slide_type": "slide"
    }
   },
   "outputs": [
    {
     "name": "stdout",
     "output_type": "stream",
     "text": [
      "Downloading data from https://www.cs.toronto.edu/~kriz/cifar-10-python.tar.gz\n",
      "170500096/170498071 [==============================] - 13s 0us/step\n"
     ]
    }
   ],
   "source": [
    "import numpy as np\n",
    "from keras.datasets import mnist\n",
    "from keras.datasets import cifar10\n",
    "import matplotlib.pyplot as plt\n",
    "import tensorflow as tf\n",
    "import keras\n",
    "\n",
    "session = tf.Session()\n",
    "keras.backend.set_session(session)\n",
    "\n",
    "(c10_x_train, c10_y_train), (c10_x_test, c10_y_test) = cifar10.load_data()"
   ]
  },
  {
   "cell_type": "markdown",
   "metadata": {
    "colab_type": "text",
    "id": "SUH9Lv61pbcv",
    "slideshow": {
     "slide_type": "slide"
    }
   },
   "source": [
    "As a refresher, CIFAR10 is a dataset for small color images which should be classifying into classes based on the object the image such as an airplane or boat.\n",
    "\n",
    "Each image is 32 x 32 x 3, for a size of 3072 for each input."
   ]
  },
  {
   "cell_type": "code",
   "execution_count": 24,
   "metadata": {
    "colab": {
     "autoexec": {
      "startup": false,
      "wait_interval": 0
     },
     "base_uri": "https://localhost:8080/",
     "height": 52,
     "output_extras": [
      {
       "item_id": 1
      }
     ]
    },
    "colab_type": "code",
    "executionInfo": {
     "elapsed": 315,
     "status": "ok",
     "timestamp": 1520800373472,
     "user": {
      "displayName": "Amil Merchant",
      "photoUrl": "//lh4.googleusercontent.com/-i4HKB6dvgGw/AAAAAAAAAAI/AAAAAAAAAM0/ZzUTZt5BJUU/s50-c-k-no/photo.jpg",
      "userId": "100705221914954377129"
     },
     "user_tz": 240
    },
    "id": "7U5cDNUOpbcz",
    "outputId": "a190b139-8324-4e94-bf8a-87ad7fff6f78",
    "slideshow": {
     "slide_type": "subslide"
    }
   },
   "outputs": [
    {
     "name": "stdout",
     "output_type": "stream",
     "text": [
      "Training Examples: 50000\n",
      "Test Examples: 10000\n"
     ]
    }
   ],
   "source": [
    "print (\"Training Examples: %d\" % len(c10_x_train))\n",
    "print (\"Test Examples: %d\" % len(c10_x_test))"
   ]
  },
  {
   "cell_type": "code",
   "execution_count": 25,
   "metadata": {
    "colab": {
     "autoexec": {
      "startup": false,
      "wait_interval": 0
     },
     "base_uri": "https://localhost:8080/",
     "height": 327,
     "output_extras": [
      {
       "item_id": 1
      }
     ]
    },
    "colab_type": "code",
    "executionInfo": {
     "elapsed": 1182,
     "status": "ok",
     "timestamp": 1520800374898,
     "user": {
      "displayName": "Amil Merchant",
      "photoUrl": "//lh4.googleusercontent.com/-i4HKB6dvgGw/AAAAAAAAAAI/AAAAAAAAAM0/ZzUTZt5BJUU/s50-c-k-no/photo.jpg",
      "userId": "100705221914954377129"
     },
     "user_tz": 240
    },
    "id": "CmRaZjU-pbc3",
    "outputId": "47c1c2ac-d674-4df5-cc72-9076540df1bf",
    "slideshow": {
     "slide_type": "slide"
    }
   },
   "outputs": [
    {
     "data": {
      "image/png": "[encoded data removed]",
      "text/plain": [
       "<matplotlib.figure.Figure at 0x124ea6b70>"
      ]
     },
     "metadata": {},
     "output_type": "display_data"
    }
   ],
   "source": [
    "n_classes = 10\n",
    "inds=np.array([c10_y_train==i for i in range(n_classes)])\n",
    "f,ax=plt.subplots(2,5,figsize=(10,5))\n",
    "ax=ax.flatten()\n",
    "for i in range(n_classes):\n",
    "    ax[i].imshow(c10_x_train[np.argmax(inds[i])].reshape(32,32,3))\n",
    "    ax[i].set_title(str(i))\n",
    "plt.show()"
   ]
  },
  {
   "cell_type": "code",
   "execution_count": null,
   "metadata": {
    "collapsed": true
   },
   "outputs": [],
   "source": []
  }
 ],
 "metadata": {
  "accelerator": "GPU",
  "anaconda-cloud": {},
  "celltoolbar": "Slideshow",
  "colab": {
   "default_view": {},
   "name": "Copy of 1.0-am-MNIST-tutorial.ipynb",
   "provenance": [
    {
     "file_id": "1foF4Kp6FhwB_RUipfnJhXvhkDLN968U7",
     "timestamp": 1520798862653
    }
   ],
   "version": "0.3.2",
   "views": {}
  },
  "kernelspec": {
   "display_name": "Python 3",
   "language": "python",
   "name": "python3"
  },
  "language_info": {
   "codemirror_mode": {
    "name": "ipython",
    "version": 3
   },
   "file_extension": ".py",
   "mimetype": "text/x-python",
   "name": "python",
   "nbconvert_exporter": "python",
   "pygments_lexer": "ipython3",
   "version": "3.7.4"
  }
 },
 "nbformat": 4,
 "nbformat_minor": 1
}
