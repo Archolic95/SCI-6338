{
 "cells": [
  {
   "cell_type": "code",
   "execution_count": 1,
   "metadata": {},
   "outputs": [
    {
     "name": "stderr",
     "output_type": "stream",
     "text": [
      "Using TensorFlow backend.\n"
     ]
    }
   ],
   "source": [
    "'''\n",
    "Target model definitions that adverserial examples are attempting to 'fool'\n",
    "\n",
    "ref: https://arxiv.org/pdf/1801.02610.pdf\n",
    "\n",
    "Source Code on MINST Challenge:\n",
    "\n",
    "https://github.com/ctargon/AdvGAN-tf\n",
    "'''\n",
    "\n",
    "import tensorflow as tf\n",
    "from keras.datasets import mnist\n",
    "from keras.utils import to_categorical\n",
    "import numpy as np\n",
    "import matplotlib.pyplot as plt\n",
    "import matplotlib.gridspec as gridspec\n",
    "import os, sys\n",
    "import random\n",
    "\n",
    "from generator import generator\n",
    "from discriminator import discriminator\n",
    "from keras.datasets import cifar10\n",
    "#from target_models import Target as target_model"
   ]
  },
  {
   "cell_type": "code",
   "execution_count": 39,
   "metadata": {},
   "outputs": [],
   "source": [
    "class Target:\n",
    "    def __init__(self, lr=0.001, epochs=5, n_input=28, n_classes=10, batch_size=16,restore=0):\n",
    "        self.lr = lr\n",
    "        self.epochs = epochs\n",
    "        self.n_input = 28\n",
    "        self.n_classes = 10\n",
    "        self.batch_size = batch_size\n",
    "        self.restore = restore\n",
    "\n",
    "        os.environ['TF_CPP_MIN_LOG_LEVEL'] = '3'\n",
    "\n",
    "    # randomly shuffle a dataset \n",
    "    def shuffle(self, X, Y):\n",
    "        rands = random.sample(range(X.shape[0]),X.shape[0])\n",
    "        return X[rands], Y[rands]\n",
    "\n",
    "    # get the next batch based on x, y, and the iteration (based on batch_size)\n",
    "    def next_batch(self, X, Y, i, batch_size):\n",
    "        idx = i * batch_size\n",
    "        idx_n = i * batch_size + batch_size\n",
    "        return X[idx:idx_n], Y[idx:idx_n]\n",
    "    \n",
    "    \n",
    "\n",
    "    # USAGE:\n",
    "    # - encoder network for vae\n",
    "    # PARAMS:\n",
    "    #x: input data sample\n",
    "    #h_hidden: LIST of num. neurons per hidden layer\n",
    "    def ModelC(self, x):\n",
    "        with tf.variable_scope('ModelC', reuse=tf.AUTO_REUSE):\n",
    "            #input_layer = tf.reshape(x, [-1, 28, 28, 1])\n",
    "\n",
    "            conv1 = tf.layers.conv2d(\n",
    "                                inputs=x,\n",
    "                                filters=32,\n",
    "                                kernel_size=3,\n",
    "                                padding=\"same\",\n",
    "                                activation=tf.nn.relu)\n",
    "            \n",
    "            conv2 = tf.layers.conv2d(\n",
    "                                inputs=conv1,\n",
    "                                filters=32,\n",
    "                                kernel_size=3,\n",
    "                                padding=\"same\",\n",
    "                                activation=tf.nn.relu)\n",
    "\n",
    "            pool1 = tf.layers.max_pooling2d(inputs=conv2, pool_size=[2, 2], strides=2)\n",
    "\n",
    "            conv3 = tf.layers.conv2d(\n",
    "                                inputs=pool1,\n",
    "                                filters=64,\n",
    "                                kernel_size=3,\n",
    "                                padding=\"same\",\n",
    "                                activation=tf.nn.relu)\n",
    "\n",
    "            conv4 = tf.layers.conv2d(\n",
    "                                inputs=conv3,\n",
    "                                filters=64,\n",
    "                                kernel_size=3,\n",
    "                                padding=\"same\",\n",
    "                                activation=tf.nn.relu)\n",
    "\n",
    "            pool2 = tf.layers.max_pooling2d(inputs=conv4, pool_size=[2, 2], strides=2)\n",
    "\n",
    "            pool2_flatten = tf.contrib.layers.flatten(pool2)\n",
    "\n",
    "            fc1 = tf.layers.dense(inputs=pool2_flatten, units=200, activation=tf.nn.relu)\n",
    "\n",
    "            fc2 = tf.layers.dense(inputs=fc1, units=200, activation=tf.nn.relu)\n",
    "\n",
    "            logits = tf.layers.dense(inputs=fc2, units=self.n_classes, activation=None)\n",
    "\n",
    "            probs = tf.nn.softmax(logits)\n",
    "\n",
    "            return logits, probs\n",
    "\n",
    "\n",
    "\n",
    "    def train(self, X, Y, X_test, Y_test):\n",
    "        # define placeholders for input data\n",
    "        x = tf.placeholder(tf.float32, [None, X.shape[1], X.shape[2], X.shape[3]])\n",
    "        y = tf.placeholder(tf.float32, [None, self.n_classes])\n",
    "\n",
    "        # define compute graph\n",
    "        logits, _ = self.ModelC(x)\n",
    "\n",
    "        # define cost\n",
    "        cost = tf.reduce_mean(tf.nn.softmax_cross_entropy_with_logits_v2(logits=logits, labels=y))\n",
    "\n",
    "        # optimizer\n",
    "        optimizer = tf.train.AdamOptimizer(learning_rate=self.lr).minimize(cost)\n",
    "        saver = tf.train.Saver()\n",
    "\n",
    "        # Initializing the variables\n",
    "        init = tf.global_variables_initializer()\n",
    "\n",
    "        sess = tf.Session()\n",
    "        sess.run(init)\n",
    "\n",
    "        total_batch = int(X.shape[0] / self.batch_size)\n",
    "\n",
    "        for epoch in range(1, self.epochs + 1):\n",
    "            avg_cost = 0.\n",
    "\n",
    "            for i in range(total_batch):\n",
    "                batch_x, batch_y = self.next_batch(X, Y, i, self.batch_size)\n",
    "                \n",
    "                _, c = sess.run([optimizer, cost], feed_dict={x: batch_x, y: batch_y})\n",
    "\n",
    "                avg_cost += c / total_batch\n",
    "\n",
    "            print(\"Epoch:\", '%04d' % (epoch), \"cost=\", \"{:.9f}\".format(avg_cost))\n",
    "\n",
    "        # Test model\n",
    "        correct_prediction = tf.equal(tf.argmax(logits, 1), tf.argmax(y, 1))\n",
    "\n",
    "        # Calculate accuracy\n",
    "        accuracy = tf.reduce_mean(tf.cast(correct_prediction, \"float\"))\n",
    "\n",
    "        accs = []\n",
    "\n",
    "        total_test_batch = int(X_test.shape[0] / self.batch_size)\n",
    "        for i in range(total_test_batch):\n",
    "            batch_x, batch_y = self.next_batch(X_test, Y_test, i, self.batch_size)\n",
    "            #batch_x = dataset.train.permute(batch_x, idxs)\n",
    "            accs.append(accuracy.eval({x: batch_x, y: batch_y}, session=sess))\n",
    "\n",
    "        print('accuracy of test set: {}'.format(sum(accs) / len(accs)))\n",
    "\n",
    "        saver.save(sess, \"./weights/target_model/model.ckpt\")\n",
    "        sess.close() \n"
   ]
  },
  {
   "cell_type": "code",
   "execution_count": 40,
   "metadata": {},
   "outputs": [
    {
     "name": "stdout",
     "output_type": "stream",
     "text": [
      "Epoch: 0001 cost= 1.373404307\n",
      "Epoch: 0002 cost= 0.919658187\n",
      "Epoch: 0003 cost= 0.727753664\n",
      "Epoch: 0004 cost= 0.596132249\n",
      "Epoch: 0005 cost= 0.490184386\n",
      "accuracy of test set: 0.6933\n"
     ]
    }
   ],
   "source": [
    "tf.reset_default_graph()\n",
    "\n",
    "#if __name__ == '__main__':\n",
    "(X,y), (X_test,y_test) = cifar10.load_data()\n",
    "X = np.divide(X, 255.0)\n",
    "X_test = np.divide(X_test, 255.0)\n",
    "X = X.reshape(X.shape[0], 32, 32, 3)\n",
    "X_test = X_test.reshape(X_test.shape[0], 32, 32, 3)\n",
    "y = to_categorical(y, num_classes=10)\n",
    "y_test = to_categorical(y_test, num_classes=10)\n",
    "cnn = Target()\n",
    "cnn.train(X, y, X_test, y_test)"
   ]
  },
  {
   "cell_type": "code",
   "execution_count": 41,
   "metadata": {},
   "outputs": [],
   "source": [
    "# randomly shuffle a dataset \n",
    "def shuffle(X, Y):\n",
    "    rands = random.sample(range(X.shape[0]),X.shape[0])\n",
    "    return X[rands], Y[rands]"
   ]
  },
  {
   "cell_type": "code",
   "execution_count": 42,
   "metadata": {},
   "outputs": [],
   "source": [
    "# get the next batch based on x, y, and the iteration (based on batch_size)\n",
    "def next_batch(X, Y, i, batch_size):\n",
    "    idx = i * batch_size\n",
    "    idx_n = i * batch_size + batch_size\n",
    "    return X[idx:idx_n], Y[idx:idx_n]"
   ]
  },
  {
   "cell_type": "code",
   "execution_count": 43,
   "metadata": {},
   "outputs": [],
   "source": [
    "def adv_loss(preds, labels, is_targeted):\n",
    "    real = tf.reduce_sum(labels * preds, 1)\n",
    "    other = tf.reduce_max((1 - labels) * preds - (labels * 10000), 1)\n",
    "    if is_targeted:\n",
    "        return tf.reduce_sum(tf.maximum(0.0, other - real))\n",
    "    return tf.reduce_sum(tf.maximum(0.0, real - other))"
   ]
  },
  {
   "cell_type": "code",
   "execution_count": 44,
   "metadata": {},
   "outputs": [],
   "source": [
    "# loss function to influence the perturbation to be as close to 0 as possible\n",
    "def perturb_loss(preds, thresh=0.3):\n",
    "    zeros = tf.zeros((tf.shape(preds)[0]))\n",
    "    return tf.reduce_mean(tf.maximum(zeros, tf.norm(tf.reshape(preds, (tf.shape(preds)[0], -1)), axis=1) - thresh))"
   ]
  },
  {
   "cell_type": "code",
   "execution_count": 52,
   "metadata": {},
   "outputs": [],
   "source": [
    "# function that defines ops, graphs, and training procedure for AdvGAN framework\n",
    "def AdvGAN(X, y, X_test, y_test, epochs=50, batch_size=128, target=-1):\n",
    "    # placeholder definitions\n",
    "    x_pl = tf.placeholder(tf.float32, [None, X.shape[1], X.shape[2], X.shape[3]]) # image placeholder\n",
    "    t = tf.placeholder(tf.float32, [None, y.shape[-1]]) # target placeholder\n",
    "    is_training = tf.placeholder(tf.bool, [])\n",
    "\n",
    "    #-----------------------------------------------------------------------------------\n",
    "    # MODEL DEFINITIONS\n",
    "    is_targeted = False\n",
    "    if target in range(0, y.shape[-1]):\n",
    "        is_targeted = True\n",
    "\n",
    "    # gather target model\n",
    "    f = Target() #target_model()\n",
    "\n",
    "    thresh = 0.3\n",
    "\n",
    "    # generate perturbation, add to original input image(s)\n",
    "    perturb = tf.clip_by_value(generator(x_pl, is_training), -thresh, thresh)\n",
    "    x_perturbed = perturb + x_pl\n",
    "    x_perturbed = tf.clip_by_value(x_perturbed, 0, 1)\n",
    "\n",
    "    # pass real and perturbed image to discriminator and the target model\n",
    "    d_real_logits, d_real_probs = discriminator(x_pl, is_training)\n",
    "    d_fake_logits, d_fake_probs = discriminator(x_perturbed, is_training)\n",
    "\n",
    "    # pass real and perturbed images to the model we are trying to fool\n",
    "    f_real_logits, f_real_probs = f.ModelC(x_pl)\n",
    "    f_fake_logits, f_fake_probs = f.ModelC(x_perturbed)\n",
    "\n",
    "\n",
    "    # generate labels for discriminator (optionally smooth labels for stability)\n",
    "    smooth = 0.0\n",
    "    d_labels_real = tf.ones_like(d_real_probs) * (1 - smooth)\n",
    "    d_labels_fake = tf.zeros_like(d_fake_probs)\n",
    "\n",
    "    #-----------------------------------------------------------------------------------\n",
    "    # LOSS DEFINITIONS\n",
    "    # discriminator loss\n",
    "    d_loss_real = tf.losses.mean_squared_error(predictions=d_real_probs, labels=d_labels_real)\n",
    "    d_loss_fake = tf.losses.mean_squared_error(predictions=d_fake_probs, labels=d_labels_fake)\n",
    "    d_loss = d_loss_real + d_loss_fake\n",
    "\n",
    "    # generator loss\n",
    "    g_loss_fake = tf.losses.mean_squared_error(predictions=d_fake_probs, labels=tf.ones_like(d_fake_probs))\n",
    "\n",
    "    # perturbation loss (minimize overall perturbation)\n",
    "    l_perturb = perturb_loss(perturb, thresh)\n",
    "\n",
    "    # adversarial loss (encourage misclassification)\n",
    "    l_adv = adv_loss(f_fake_probs, t, is_targeted)\n",
    "\n",
    "    # weights for generator loss function\n",
    "    alpha = 1.0\n",
    "    beta = 5.0\n",
    "    g_loss = l_adv + alpha*g_loss_fake + beta*l_perturb \n",
    "\n",
    "    # ----------------------------------------------------------------------------------\n",
    "    # gather variables for training/restoring\n",
    "    t_vars = tf.trainable_variables()\n",
    "    f_vars = [var for var in t_vars if 'ModelC' in var.name]\n",
    "    d_vars = [var for var in t_vars if 'd_' in var.name]\n",
    "    g_vars = tf.get_collection(tf.GraphKeys.GLOBAL_VARIABLES, scope='g_weights')\n",
    "\n",
    "    # define optimizers for discriminator and generator\n",
    "    update_ops = tf.get_collection(tf.GraphKeys.UPDATE_OPS)\n",
    "    with tf.control_dependencies(update_ops):\n",
    "        d_opt = tf.train.AdamOptimizer().minimize(d_loss, var_list=d_vars)\n",
    "        g_opt = tf.train.AdamOptimizer(learning_rate=0.001).minimize(g_loss, var_list=g_vars)\n",
    "\n",
    "    # create saver objects for the target model, generator, and discriminator\n",
    "    saver = tf.train.Saver(f_vars)\n",
    "    g_saver = tf.train.Saver(g_vars)\n",
    "    d_saver = tf.train.Saver(d_vars)\n",
    "\n",
    "    init  = tf.global_variables_initializer()\n",
    "\n",
    "    sess  = tf.Session()\n",
    "    sess.run(init)\n",
    "\n",
    "    # load the pretrained target model\n",
    "    try:\n",
    "        saver.restore(sess, \"./weights/target_model/model.ckpt\")\n",
    "    except:\n",
    "        print(\"make sure to train the target model first...\")\n",
    "        sys.exit(1)\n",
    "\n",
    "    total_batches = int(X.shape[0] / batch_size)\n",
    "\n",
    "    for epoch in range(0, epochs):\n",
    "\n",
    "        X, y = shuffle(X, y)\n",
    "        loss_D_sum = 0.0\n",
    "        loss_G_fake_sum = 0.0\n",
    "        loss_perturb_sum = 0.0\n",
    "        loss_adv_sum = 0.0\n",
    "\n",
    "        for i in range(total_batches):\n",
    "\n",
    "            batch_x, batch_y = next_batch(X, y, i, batch_size)\n",
    "\n",
    "            # if targeted, create one hot vectors of the target\n",
    "            if is_targeted:\n",
    "                targets = np.full((batch_y.shape[0],), target)\n",
    "                batch_y = np.eye(y.shape[-1])[targets]\n",
    "\n",
    "            # train the discriminator first n times\n",
    "            for _ in range(1):\n",
    "                _, loss_D_batch = sess.run([d_opt, d_loss], feed_dict={x_pl: batch_x, \\\n",
    "                                                                       is_training: True})\n",
    "\n",
    "            # train the generator n times\n",
    "            for _ in range(1):\n",
    "                _, loss_G_fake_batch, loss_adv_batch, loss_perturb_batch = \\\n",
    "                                    sess.run([g_opt, g_loss_fake, l_adv, l_perturb], \\\n",
    "                                                feed_dict={x_pl: batch_x, \\\n",
    "                                                           t: batch_y, \\\n",
    "                                                           is_training: True})\n",
    "            loss_D_sum += loss_D_batch\n",
    "            loss_G_fake_sum += loss_G_fake_batch\n",
    "            loss_perturb_sum += loss_perturb_batch\n",
    "            loss_adv_sum += loss_adv_batch\n",
    "\n",
    "        print(\"epoch %d:\\nloss_D: %.3f, loss_G_fake: %.3f, \\\n",
    "                \\nloss_perturb: %.3f, loss_adv: %.3f, \\n\" %\n",
    "                (epoch + 1, loss_D_sum/total_batches, loss_G_fake_sum/total_batches,\n",
    "                loss_perturb_sum/total_batches, loss_adv_sum/total_batches))\n",
    "\n",
    "        if epoch % 10 == 0:\n",
    "            g_saver.save(sess, \"weights/generator/gen.ckpt\")\n",
    "            d_saver.save(sess, \"weights/discriminator/disc.ckpt\")\n",
    "\n",
    "    # evaluate the test set\n",
    "    correct_prediction = tf.equal(tf.argmax(f_fake_probs, 1), tf.argmax(t, 1))\n",
    "    accuracy = tf.reduce_mean(tf.cast(correct_prediction, \"float\"))\n",
    "    accs = []\n",
    "    total_batches_test = int(X_test.shape[0] / batch_size)\n",
    "    for i in range(total_batches_test):\n",
    "        batch_x, batch_y = next_batch(X_test, y_test, i, batch_size)\n",
    "        acc, x_pert = sess.run([accuracy, x_perturbed], feed_dict={x_pl: batch_x, t: batch_y, is_training: False})\n",
    "        accs.append(acc)\n",
    "\n",
    "    print('accuracy of test set: {}'.format(sum(accs) / len(accs)))\n",
    "\n",
    "    # plot some images and their perturbed counterparts\n",
    "    f, axarr = plt.subplots(2,2)\n",
    "    axarr[0,0].imshow(np.squeeze(batch_x[2]), cmap='Greys_r')\n",
    "    axarr[0,1].imshow(np.squeeze(x_pert[2]), cmap='Greys_r')\n",
    "    axarr[1,0].imshow(np.squeeze(batch_x[5]), cmap='Greys_r')\n",
    "    axarr[1,1].imshow(np.squeeze(x_pert[5]), cmap='Greys_r')\n",
    "    plt.show()\n",
    "\n",
    "    print('finished training, saving weights')\n",
    "    g_saver.save(sess, \"weights/generator/gen.ckpt\")\n",
    "    d_saver.save(sess, \"weights/discriminator/disc.ckpt\")"
   ]
  },
  {
   "cell_type": "code",
   "execution_count": 53,
   "metadata": {},
   "outputs": [],
   "source": [
    "def attack(X, y, batch_size=128, thresh=0.3, target=-1):\n",
    "    x_pl = tf.placeholder(tf.float32, [None, X.shape[1], X.shape[2], X.shape[3]]) # image placeholder\n",
    "    t = tf.placeholder(tf.float32, [None, 10]) # target placeholder\n",
    "    is_training = tf.placeholder(tf.bool, [])\n",
    "\n",
    "    is_targeted = False\n",
    "    if target in range(0, y.shape[-1]):\n",
    "        is_targeted = True\n",
    "\n",
    "    perturb = tf.clip_by_value(generator(x_pl, is_training), -thresh, thresh)\n",
    "    x_perturbed = perturb + x_pl\n",
    "    x_perturbed = tf.clip_by_value(x_perturbed, 0, 1)\n",
    "\n",
    "    f = target_model()\n",
    "    f_real_logits, f_real_probs = f.ModelC(x_pl)\n",
    "    f_fake_logits, f_fake_probs = f.ModelC(x_perturbed)\n",
    "\n",
    "    t_vars = tf.trainable_variables()\n",
    "    f_vars = [var for var in t_vars if 'ModelC' in var.name]\n",
    "    g_vars = tf.get_collection(tf.GraphKeys.GLOBAL_VARIABLES, scope='g_weights')\n",
    "\n",
    "    sess = tf.Session()\n",
    "\n",
    "    f_saver = tf.train.Saver(f_vars)\n",
    "    g_saver = tf.train.Saver(g_vars)\n",
    "    f_saver.restore(sess, \"./weights/target_model/model.ckpt\")\n",
    "    g_saver.restore(sess, tf.train.latest_checkpoint(\"./weights/generator/\"))\n",
    "\n",
    "    rawpert, pert, fake_l, real_l = sess.run([perturb, x_perturbed, f_fake_probs, f_real_probs], \\\n",
    "                                                feed_dict={x_pl: X[:32], \\\n",
    "                                                           is_training: False})\n",
    "    print('LA: ' + str(np.argmax(y[:32], axis=1)))\n",
    "    print('OG: ' + str(np.argmax(real_l, axis=1)))\n",
    "    print('PB: ' + str(np.argmax(fake_l, axis=1)))\n",
    "\n",
    "    correct_prediction = tf.equal(tf.argmax(f_fake_probs, 1), tf.argmax(t, 1))\n",
    "    accuracy = tf.reduce_mean(tf.cast(correct_prediction, \"float\"))\n",
    "    accs = []\n",
    "    total_batches_test = int(X.shape[0] / batch_size)\n",
    "    for i in range(total_batches_test):\n",
    "        batch_x, batch_y = next_batch(X, y, i, batch_size)\n",
    "\n",
    "        if is_targeted:\n",
    "            targets = np.full((batch_y.shape[0],), target)\n",
    "            batch_y = np.eye(y.shape[-1])[targets]\n",
    "\n",
    "        acc, fake_l, x_pert = sess.run([accuracy, f_fake_probs, x_perturbed], feed_dict={x_pl: batch_x, t: batch_y, is_training: False})\n",
    "        accs.append(acc)\n",
    "\n",
    "    print('accuracy of test set: {}'.format(sum(accs) / len(accs)))\n",
    "\n",
    "    f, axarr = plt.subplots(2,2)\n",
    "    axarr[0,0].imshow(np.squeeze(X[3]), cmap='Greys_r')\n",
    "    axarr[0,1].imshow(np.squeeze(pert[3]), cmap='Greys_r')\n",
    "    axarr[1,0].imshow(np.squeeze(X[4]), cmap='Greys_r')\n",
    "    axarr[1,1].imshow(np.squeeze(pert[4]), cmap='Greys_r')\n",
    "    plt.show()\n",
    "\n",
    "\n",
    "\n"
   ]
  },
  {
   "cell_type": "code",
   "execution_count": null,
   "metadata": {},
   "outputs": [
    {
     "name": "stdout",
     "output_type": "stream",
     "text": [
      "INFO:tensorflow:Restoring parameters from ./weights/target_model/model.ckpt\n"
     ]
    },
    {
     "name": "stderr",
     "output_type": "stream",
     "text": [
      "INFO:tensorflow:Restoring parameters from ./weights/target_model/model.ckpt\n"
     ]
    }
   ],
   "source": [
    "tf.reset_default_graph()\n",
    "# read in mnist data\n",
    "#(X,y), (X_test,y_test) = mnist.load_data()\n",
    "(X, y), (X_test, y_test) = cifar10.load_data()\n",
    "X = np.divide(X, 255.0)\n",
    "X_test = np.divide(X_test, 255.0)\n",
    "X = X.reshape(X.shape[0], 32, 32, 3)\n",
    "X_test = X_test.reshape(X_test.shape[0], 32, 32, 3)\n",
    "y = to_categorical(y, num_classes=10)\n",
    "y_test = to_categorical(y_test, num_classes=10)\n",
    "\n",
    "AdvGAN(X, y, X_test, y_test, batch_size=8, epochs=5, target=-1)\n",
    "attack(X_test, y_test, target=-1)"
   ]
  },
  {
   "cell_type": "code",
   "execution_count": 33,
   "metadata": {},
   "outputs": [],
   "source": [
    "(X, y), (X_test, y_test) = cifar10.load_data()"
   ]
  },
  {
   "cell_type": "code",
   "execution_count": 51,
   "metadata": {},
   "outputs": [
    {
     "data": {
      "text/plain": [
       "(50000, 32, 32, 3)"
      ]
     },
     "execution_count": 51,
     "metadata": {},
     "output_type": "execute_result"
    }
   ],
   "source": [
    "X.shape"
   ]
  },
  {
   "cell_type": "code",
   "execution_count": 48,
   "metadata": {},
   "outputs": [
    {
     "data": {
      "text/plain": [
       "<__main__.Target at 0x2379caf2438>"
      ]
     },
     "execution_count": 48,
     "metadata": {},
     "output_type": "execute_result"
    }
   ],
   "source": [
    "cnn"
   ]
  },
  {
   "cell_type": "code",
   "execution_count": 11,
   "metadata": {},
   "outputs": [
    {
     "name": "stdout",
     "output_type": "stream",
     "text": [
      "Epoch: 0001 cost= 0.107704659\n",
      "Epoch: 0002 cost= 0.045676223\n",
      "Epoch: 0003 cost= 0.032581327\n",
      "Epoch: 0004 cost= 0.024585292\n",
      "Epoch: 0005 cost= 0.019054191\n",
      "accuracy of test set: 0.9895\n"
     ]
    }
   ],
   "source": []
  },
  {
   "cell_type": "code",
   "execution_count": 20,
   "metadata": {},
   "outputs": [
    {
     "data": {
      "text/plain": [
       "<__main__.Target at 0x237f43abba8>"
      ]
     },
     "execution_count": 20,
     "metadata": {},
     "output_type": "execute_result"
    }
   ],
   "source": [
    "cnn"
   ]
  },
  {
   "cell_type": "code",
   "execution_count": 50,
   "metadata": {},
   "outputs": [
    {
     "data": {
      "text/plain": [
       "<bound method Target.ModelC of <__main__.Target object at 0x000002379CAF2438>>"
      ]
     },
     "execution_count": 50,
     "metadata": {},
     "output_type": "execute_result"
    }
   ],
   "source": [
    "cnn.ModelC"
   ]
  },
  {
   "cell_type": "code",
   "execution_count": null,
   "metadata": {},
   "outputs": [],
   "source": []
  }
 ],
 "metadata": {
  "kernelspec": {
   "display_name": "Python 3",
   "language": "python",
   "name": "python3"
  },
  "language_info": {
   "codemirror_mode": {
    "name": "ipython",
    "version": 3
   },
   "file_extension": ".py",
   "mimetype": "text/x-python",
   "name": "python",
   "nbconvert_exporter": "python",
   "pygments_lexer": "ipython3",
   "version": "3.7.3"
  }
 },
 "nbformat": 4,
 "nbformat_minor": 2
}
